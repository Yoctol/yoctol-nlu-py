{
 "cells": [
  {
   "cell_type": "markdown",
   "metadata": {},
   "source": [
    "# Intent Classification with Threshold\n",
    "- compute accuracy score\n",
    "- compute precision score\n",
    "- compute recall score\n",
    "- plot accuracy computed by different thresholds\n",
    "- plot precision and recall computed by different thresholds"
   ]
  },
  {
   "cell_type": "markdown",
   "metadata": {},
   "source": [
    "## 1. Prepare testing dataset and corresponding labels"
   ]
  },
  {
   "cell_type": "code",
   "execution_count": 1,
   "metadata": {},
   "outputs": [],
   "source": [
    "utterances = [\n",
    "    \"I like to drink coffee.\",\n",
    "    \"Watching TV is a boring activity.\",\n",
    "    \"It is interesting to follow the Tweet of President Trump.\",\n",
    "    \"BLA BLA BLA !!!\",\n",
    "    \"Hello World\",\n",
    "]\n",
    "labels_intent = [\n",
    "    \"preference\",\n",
    "    \"hate\",\n",
    "    \"preference\",\n",
    "    \"nothing\",\n",
    "    \"nothing\",\n",
    "]"
   ]
  },
  {
   "cell_type": "markdown",
   "metadata": {},
   "source": [
    "## 2. Summon your model and Obtain predictions"
   ]
  },
  {
   "cell_type": "code",
   "execution_count": null,
   "metadata": {},
   "outputs": [],
   "source": [
    "from ynlu import NLUClient\n",
    "client = NLUClient(token=\"YOUR_TOKEN_HERE\")\n",
    "\n",
    "# Summon your model\n",
    "model = client.get_model_by_id(\"MODEL_ID\")\n",
    "\n",
    "# Predict\n",
    "predictions = []\n",
    "for utt in utterances:\n",
    "    intent_prediction, _ = model.predict(utt)\n",
    "    predictions.append(intent_prediction)"
   ]
  },
  {
   "cell_type": "code",
   "execution_count": 2,
   "metadata": {},
   "outputs": [],
   "source": [
    "## Suppose the predictions you obtain are:\n",
    "predictions = [\n",
    "    [\n",
    "        {\"intent\": \"nothing\", \"score\": 0.7}, \n",
    "        {\"intent\": \"preference\", \"score\": 0.2}, \n",
    "        {\"intent\": \"hate\", \"score\": 0.1},\n",
    "    ],\n",
    "    [\n",
    "        {\"intent\": \"hate\", \"score\": 0.9}, \n",
    "        {\"intent\": \"nothing\", \"score\": 0.08}, \n",
    "        {\"intent\": \"preference\", \"score\": 0.02},\n",
    "    ],\n",
    "    [\n",
    "        {\"intent\": \"preference\", \"score\": 0.8}, \n",
    "        {\"intent\": \"nothing\", \"score\": 0.18}, \n",
    "        {\"intent\": \"hate\", \"score\": 0.02},\n",
    "    ],\n",
    "    [\n",
    "        {\"intent\": \"preference\", \"score\": 0.4}, \n",
    "        {\"intent\": \"hate\", \"score\": 0.32}, \n",
    "        {\"intent\": \"nothing\", \"score\": 0.28},\n",
    "    ],\n",
    "    [\n",
    "        {\"intent\": \"nothing\", \"score\": 0.67777}, \n",
    "        {\"intent\": \"preference\", \"score\": 0.2}, \n",
    "        {\"intent\": \"hate\", \"score\": 0.1299999},\n",
    "    ],\n",
    "]"
   ]
  },
  {
   "cell_type": "markdown",
   "metadata": {},
   "source": [
    "## 3. Evaluate your model by computing different scores  "
   ]
  },
  {
   "cell_type": "markdown",
   "metadata": {},
   "source": [
    "### (1) accuracy score with threshold"
   ]
  },
  {
   "cell_type": "code",
   "execution_count": 3,
   "metadata": {},
   "outputs": [
    {
     "name": "stdout",
     "output_type": "stream",
     "text": [
      "accuracy with threshold 0.6 = 0.6\n"
     ]
    }
   ],
   "source": [
    "from ynlu.sdk.evaluation import intent_accuracy_score_with_threshold\n",
    "accuracy = intent_accuracy_score_with_threshold(\n",
    "    intent_predictions=predictions,\n",
    "    y_trues=labels_intent,\n",
    "    threshold=0.6,\n",
    ")\n",
    "print(\"accuracy with threshold {} = {}\".format(0.6, accuracy))"
   ]
  },
  {
   "cell_type": "markdown",
   "metadata": {},
   "source": [
    "### (2) precision score with threshold"
   ]
  },
  {
   "cell_type": "code",
   "execution_count": 4,
   "metadata": {},
   "outputs": [
    {
     "name": "stdout",
     "output_type": "stream",
     "text": [
      "precision with threshold 0.6 = 0.8\n"
     ]
    }
   ],
   "source": [
    "from ynlu.sdk.evaluation import intent_precision_score_with_threshold\n",
    "precision = intent_precision_score_with_threshold(\n",
    "    intent_predictions=predictions,\n",
    "    y_trues=labels_intent,\n",
    "    threshold=0.6,\n",
    ")\n",
    "print(\"precision with threshold {} = {}\".format(0.6, precision))"
   ]
  },
  {
   "cell_type": "markdown",
   "metadata": {},
   "source": [
    "### (3) recall score with threshold"
   ]
  },
  {
   "cell_type": "code",
   "execution_count": 5,
   "metadata": {},
   "outputs": [
    {
     "name": "stdout",
     "output_type": "stream",
     "text": [
      "recall with threshold 0.6 = 0.6\n"
     ]
    }
   ],
   "source": [
    "from ynlu.sdk.evaluation import intent_recall_score_with_threshold\n",
    "recall = intent_recall_score_with_threshold(\n",
    "    intent_predictions=predictions,\n",
    "    y_trues=labels_intent,\n",
    "    threshold=0.6,\n",
    ")\n",
    "print(\"recall with threshold {} = {}\".format(0.6, recall))"
   ]
  },
  {
   "cell_type": "markdown",
   "metadata": {},
   "source": [
    "## 4. Plot "
   ]
  },
  {
   "cell_type": "markdown",
   "metadata": {},
   "source": [
    "### (1) compute accuracy by different thresholds"
   ]
  },
  {
   "cell_type": "code",
   "execution_count": 9,
   "metadata": {},
   "outputs": [
    {
     "name": "stdout",
     "output_type": "stream",
     "text": [
      "accuracy with threshold 0.0 = 0.6\n",
      "accuracy with threshold 0.05 = 0.6\n",
      "accuracy with threshold 0.1 = 0.6\n",
      "accuracy with threshold 0.15000000000000002 = 0.6\n",
      "accuracy with threshold 0.2 = 0.6\n",
      "accuracy with threshold 0.25 = 0.6\n",
      "accuracy with threshold 0.30000000000000004 = 0.6\n",
      "accuracy with threshold 0.35000000000000003 = 0.6\n",
      "accuracy with threshold 0.4 = 0.6\n",
      "accuracy with threshold 0.45 = 0.6\n",
      "accuracy with threshold 0.5 = 0.6\n",
      "accuracy with threshold 0.55 = 0.6\n",
      "accuracy with threshold 0.6000000000000001 = 0.6\n",
      "accuracy with threshold 0.65 = 0.6\n",
      "accuracy with threshold 0.7000000000000001 = 0.4\n",
      "accuracy with threshold 0.75 = 0.4\n",
      "accuracy with threshold 0.8 = 0.2\n",
      "accuracy with threshold 0.8500000000000001 = 0.2\n",
      "accuracy with threshold 0.9 = 0.0\n",
      "accuracy with threshold 0.9500000000000001 = 0.0\n"
     ]
    }
   ],
   "source": [
    "import numpy as np\n",
    "\n",
    "from ynlu.sdk.evaluation import intent_accuracy_score_with_threshold\n",
    "\n",
    "\n",
    "thresholds = []\n",
    "accuracy_scores = []\n",
    "for threshold in np.linspace(0, 1, 20, endpoint=False):\n",
    "    accuracy = intent_accuracy_score_with_threshold(\n",
    "        intent_predictions=predictions,\n",
    "        y_trues=labels_intent,\n",
    "        threshold=threshold,\n",
    "    )\n",
    "    print(\"accuracy with threshold {} = {}\".format(threshold, accuracy))\n",
    "    thresholds.append(threshold)\n",
    "    accuracy_scores.append(accuracy)"
   ]
  },
  {
   "cell_type": "code",
   "execution_count": 24,
   "metadata": {},
   "outputs": [
    {
     "data": {
      "image/png": "[encoded data removed]",
      "text/plain": [
       "<Figure size 576x432 with 1 Axes>"
      ]
     },
     "metadata": {},
     "output_type": "display_data"
    }
   ],
   "source": [
    "%matplotlib inline\n",
    "from ynlu.sdk.evaluation.plot import plot_lines\n",
    "\n",
    "\n",
    "plot_lines(\n",
    "    data=[{\"x\": thresholds, \"y\": accuracy_scores, \"label\": \"accuracy\"}],\n",
    "    x_axis_name=\"threshold\",\n",
    "    y_axis_name=\"accuracy\",\n",
    "    title=\"accuracy by different thresholds\",\n",
    ")"
   ]
  },
  {
   "cell_type": "markdown",
   "metadata": {},
   "source": [
    "### (2) compute precision and recall by different thresholds and plot"
   ]
  },
  {
   "cell_type": "code",
   "execution_count": 26,
   "metadata": {},
   "outputs": [
    {
     "name": "stdout",
     "output_type": "stream",
     "text": [
      "At threshold 0.0: (precision = 0.6, recall = 0.6)\n",
      "At threshold 0.05: (precision = 0.6, recall = 0.6)\n",
      "At threshold 0.1: (precision = 0.6, recall = 0.6)\n",
      "At threshold 0.15000000000000002: (precision = 0.6, recall = 0.6)\n",
      "At threshold 0.2: (precision = 0.6, recall = 0.6)\n",
      "At threshold 0.25: (precision = 0.6, recall = 0.6)\n",
      "At threshold 0.30000000000000004: (precision = 0.6, recall = 0.6)\n",
      "At threshold 0.35000000000000003: (precision = 0.6, recall = 0.6)\n",
      "At threshold 0.4: (precision = 0.8, recall = 0.6)\n",
      "At threshold 0.45: (precision = 0.8, recall = 0.6)\n",
      "At threshold 0.5: (precision = 0.8, recall = 0.6)\n",
      "At threshold 0.55: (precision = 0.8, recall = 0.6)\n",
      "At threshold 0.6000000000000001: (precision = 0.8, recall = 0.6)\n",
      "At threshold 0.65: (precision = 0.8, recall = 0.6)\n",
      "At threshold 0.7000000000000001: (precision = 0.6, recall = 0.4)\n",
      "At threshold 0.75: (precision = 0.6, recall = 0.4)\n",
      "At threshold 0.8: (precision = 0.2, recall = 0.2)\n",
      "At threshold 0.8500000000000001: (precision = 0.2, recall = 0.2)\n",
      "At threshold 0.9: (precision = 0.0, recall = 0.0)\n",
      "At threshold 0.9500000000000001: (precision = 0.0, recall = 0.0)\n"
     ]
    },
    {
     "name": "stderr",
     "output_type": "stream",
     "text": [
      "/home/en/.pyenv/versions/py3_nlu_sdk/lib/python3.5/site-packages/sklearn/metrics/classification.py:1135: UndefinedMetricWarning: Precision is ill-defined and being set to 0.0 in labels with no predicted samples.\n",
      "  'precision', 'predicted', average, warn_for)\n"
     ]
    }
   ],
   "source": [
    "import numpy as np\n",
    "\n",
    "from ynlu.sdk.evaluation import (\n",
    "    intent_precision_score_with_threshold,\n",
    "    intent_recall_score_with_threshold,\n",
    ")\n",
    "\n",
    "\n",
    "thresholds = []\n",
    "precision_scores = []\n",
    "recall_scores = []\n",
    "for threshold in np.linspace(0, 1, 20, endpoint=False):\n",
    "    precision = intent_precision_score_with_threshold(\n",
    "        intent_predictions=predictions,\n",
    "        y_trues=labels_intent,\n",
    "        threshold=threshold,\n",
    "    )\n",
    "    recall = intent_recall_score_with_threshold(\n",
    "        intent_predictions=predictions,\n",
    "        y_trues=labels_intent,\n",
    "        threshold=threshold,\n",
    "    )\n",
    "    print(\"At threshold {}: (precision = {}, recall = {})\".format(threshold, precision, recall))\n",
    "    thresholds.append(threshold)\n",
    "    precision_scores.append(precision)\n",
    "    recall_scores.append(recall)"
   ]
  },
  {
   "cell_type": "code",
   "execution_count": 27,
   "metadata": {},
   "outputs": [
    {
     "data": {
      "image/png": "[encoded data removed]",
      "text/plain": [
       "<Figure size 576x432 with 1 Axes>"
      ]
     },
     "metadata": {},
     "output_type": "display_data"
    }
   ],
   "source": [
    "%matplotlib inline\n",
    "from ynlu.sdk.evaluation.plot import plot_lines\n",
    "\n",
    "\n",
    "plot_lines(\n",
    "    data=[\n",
    "        {\"x\": thresholds, \"y\": precision_scores, \"label\": \"precision\"},\n",
    "        {\"x\": thresholds, \"y\": recall_scores, \"label\": \"recall\"},\n",
    "    ],\n",
    "    x_axis_name=\"threshold\",\n",
    "    y_axis_name=\"value\",\n",
    "    title=\"precision and recall by different thresholds\",\n",
    ")"
   ]
  },
  {
   "cell_type": "code",
   "execution_count": null,
   "metadata": {},
   "outputs": [],
   "source": []
  }
 ],
 "metadata": {
  "kernelspec": {
   "display_name": "Python 3",
   "language": "python",
   "name": "python3"
  },
  "language_info": {
   "codemirror_mode": {
    "name": "ipython",
    "version": 3
   },
   "file_extension": ".py",
   "mimetype": "text/x-python",
   "name": "python",
   "nbconvert_exporter": "python",
   "pygments_lexer": "ipython3",
   "version": "3.5.2"
  }
 },
 "nbformat": 4,
 "nbformat_minor": 1
}
