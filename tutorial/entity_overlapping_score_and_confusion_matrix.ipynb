{
 "cells": [
  {
   "cell_type": "markdown",
   "metadata": {},
   "source": [
    "# Entity Evaluation\n",
    "\n",
    "- compute overlapping score\n",
    "- compute confusion matrix\n",
    "- plot confusion matrix"
   ]
  },
  {
   "cell_type": "markdown",
   "metadata": {},
   "source": [
    "## 1. Prepare annotated utterances for testing"
   ]
  },
  {
   "cell_type": "code",
   "execution_count": 1,
   "metadata": {},
   "outputs": [],
   "source": [
    "annotated_utterances = [\n",
    "    \"I like to drink <drink>coffee</drink>.\",\n",
    "    \"<name>Hana</name> thinks that watching TV is a boring activity.\",\n",
    "    \"It is interesting to follow the Tweet of President <name>Trump</name>.\",\n",
    "    \"<drink>Chocolate</drink> is <name>Alvin</name>'s favorite.\",\n",
    "    \"Hello World\",\n",
    "]"
   ]
  },
  {
   "cell_type": "markdown",
   "metadata": {},
   "source": [
    "## 2. Extract true labels from annotated utterances"
   ]
  },
  {
   "cell_type": "code",
   "execution_count": 2,
   "metadata": {},
   "outputs": [
    {
     "name": "stdout",
     "output_type": "stream",
     "text": [
      "#0: \n",
      " I like to drink <drink>coffee</drink>. \n",
      " ['DONT_CARE', 'DONT_CARE', 'DONT_CARE', 'DONT_CARE', 'DONT_CARE', 'DONT_CARE', 'DONT_CARE', 'DONT_CARE', 'DONT_CARE', 'DONT_CARE', 'DONT_CARE', 'DONT_CARE', 'DONT_CARE', 'DONT_CARE', 'DONT_CARE', 'DONT_CARE', 'drink', 'drink', 'drink', 'drink', 'drink', 'drink', 'DONT_CARE']\n",
      "\n",
      "#1: \n",
      " <name>Hana</name> thinks that watching TV is a boring activity. \n",
      " ['name', 'name', 'name', 'name', 'DONT_CARE', 'DONT_CARE', 'DONT_CARE', 'DONT_CARE', 'DONT_CARE', 'DONT_CARE', 'DONT_CARE', 'DONT_CARE', 'DONT_CARE', 'DONT_CARE', 'DONT_CARE', 'DONT_CARE', 'DONT_CARE', 'DONT_CARE', 'DONT_CARE', 'DONT_CARE', 'DONT_CARE', 'DONT_CARE', 'DONT_CARE', 'DONT_CARE', 'DONT_CARE', 'DONT_CARE', 'DONT_CARE', 'DONT_CARE', 'DONT_CARE', 'DONT_CARE', 'DONT_CARE', 'DONT_CARE', 'DONT_CARE', 'DONT_CARE', 'DONT_CARE', 'DONT_CARE', 'DONT_CARE', 'DONT_CARE', 'DONT_CARE', 'DONT_CARE', 'DONT_CARE', 'DONT_CARE', 'DONT_CARE', 'DONT_CARE', 'DONT_CARE', 'DONT_CARE', 'DONT_CARE', 'DONT_CARE', 'DONT_CARE', 'DONT_CARE']\n",
      "\n",
      "#2: \n",
      " It is interesting to follow the Tweet of President <name>Trump</name>. \n",
      " ['DONT_CARE', 'DONT_CARE', 'DONT_CARE', 'DONT_CARE', 'DONT_CARE', 'DONT_CARE', 'DONT_CARE', 'DONT_CARE', 'DONT_CARE', 'DONT_CARE', 'DONT_CARE', 'DONT_CARE', 'DONT_CARE', 'DONT_CARE', 'DONT_CARE', 'DONT_CARE', 'DONT_CARE', 'DONT_CARE', 'DONT_CARE', 'DONT_CARE', 'DONT_CARE', 'DONT_CARE', 'DONT_CARE', 'DONT_CARE', 'DONT_CARE', 'DONT_CARE', 'DONT_CARE', 'DONT_CARE', 'DONT_CARE', 'DONT_CARE', 'DONT_CARE', 'DONT_CARE', 'DONT_CARE', 'DONT_CARE', 'DONT_CARE', 'DONT_CARE', 'DONT_CARE', 'DONT_CARE', 'DONT_CARE', 'DONT_CARE', 'DONT_CARE', 'DONT_CARE', 'DONT_CARE', 'DONT_CARE', 'DONT_CARE', 'DONT_CARE', 'DONT_CARE', 'DONT_CARE', 'DONT_CARE', 'DONT_CARE', 'DONT_CARE', 'name', 'name', 'name', 'name', 'name', 'DONT_CARE']\n",
      "\n",
      "#3: \n",
      " <drink>Chocolate</drink> is <name>Alvin</name>'s favorite. \n",
      " ['drink', 'drink', 'drink', 'drink', 'drink', 'drink', 'drink', 'drink', 'drink', 'DONT_CARE', 'DONT_CARE', 'DONT_CARE', 'DONT_CARE', 'name', 'name', 'name', 'name', 'name', 'DONT_CARE', 'DONT_CARE', 'DONT_CARE', 'DONT_CARE', 'DONT_CARE', 'DONT_CARE', 'DONT_CARE', 'DONT_CARE', 'DONT_CARE', 'DONT_CARE', 'DONT_CARE', 'DONT_CARE']\n",
      "\n",
      "#4: \n",
      " Hello World \n",
      " ['DONT_CARE', 'DONT_CARE', 'DONT_CARE', 'DONT_CARE', 'DONT_CARE', 'DONT_CARE', 'DONT_CARE', 'DONT_CARE', 'DONT_CARE', 'DONT_CARE', 'DONT_CARE']\n",
      "\n"
     ]
    }
   ],
   "source": [
    "from ynlu.sdk.evaluation.utils import preprocess_annotated_utterance\n",
    "entity_labels = []\n",
    "for i, annotated_utterance in enumerate(annotated_utterances):\n",
    "    entity_label = preprocess_annotated_utterance(annotated_utterance)\n",
    "    entity_labels.append(entity_label)\n",
    "    print(\"#{}: \\n {} \\n {}\\n\".format(i, annotated_utterance, entity_label))"
   ]
  },
  {
   "cell_type": "markdown",
   "metadata": {},
   "source": [
    "## 3. Remove annotations"
   ]
  },
  {
   "cell_type": "code",
   "execution_count": 3,
   "metadata": {},
   "outputs": [
    {
     "name": "stdout",
     "output_type": "stream",
     "text": [
      "#0: \n",
      " I like to drink <drink>coffee</drink>. \n",
      " I like to drink coffee.\n",
      "\n",
      "#1: \n",
      " <name>Hana</name> thinks that watching TV is a boring activity. \n",
      " Hana thinks that watching TV is a boring activity.\n",
      "\n",
      "#2: \n",
      " It is interesting to follow the Tweet of President <name>Trump</name>. \n",
      " It is interesting to follow the Tweet of President Trump.\n",
      "\n",
      "#3: \n",
      " <drink>Chocolate</drink> is <name>Alvin</name>'s favorite. \n",
      " Chocolate is Alvin's favorite.\n",
      "\n",
      "#4: \n",
      " Hello World \n",
      " Hello World\n",
      "\n"
     ]
    }
   ],
   "source": [
    "from ynlu.sdk.evaluation.utils import remove_annotation\n",
    "clean_utterances = []\n",
    "for i, annotated_utterance in enumerate(annotated_utterances):\n",
    "    clean_utterance = remove_annotation(annotated_utterance)\n",
    "    clean_utterances.append(clean_utterance)\n",
    "    print(\"#{}: \\n {} \\n {}\\n\".format(i, annotated_utterance, clean_utterance))"
   ]
  },
  {
   "cell_type": "markdown",
   "metadata": {},
   "source": [
    "## 4. Summon your model and Obtain predictions"
   ]
  },
  {
   "cell_type": "code",
   "execution_count": 4,
   "metadata": {},
   "outputs": [],
   "source": [
    "# from ynlu import NLUClient\n",
    "# client = NLUClient(token=\"YOUR_TOKEN_HERE\")\n",
    "\n",
    "# # Summon your model\n",
    "# model = client.get_model_by_id(\"MODEL_ID\")\n",
    "\n",
    "# # Predict\n",
    "# predictions = []\n",
    "# for utt in utterances:\n",
    "#     _, entity_prediction = model.predict(utt)\n",
    "#     predictions.append(entity_prediction)"
   ]
  },
  {
   "cell_type": "code",
   "execution_count": 5,
   "metadata": {},
   "outputs": [],
   "source": [
    "## Suppose the predictions you obtain are:\n",
    "predictions = [\n",
    "    [\n",
    "        {\"entity\": \"name\", \"value\": \"I\", \"score\": 0.7},\n",
    "        {\"entity\": \"DONT_CARE\", \"value\": \" like to drink\", \"score\": 0.5},\n",
    "        {\"entity\": \"drink\", \"value\": \" coffee.\", \"score\": 0.8}\n",
    "    ],\n",
    "    [\n",
    "        {\"entity\": \"name\", \"value\": \"Hana\", \"score\": 0.9},\n",
    "        {\"entity\": \"DONT_CARE\", \"value\": \" thinks that \", \"score\": 0.8},\n",
    "        {\"entity\": \"drink\", \"value\": \"watching TV \", \"score\": 0.4},\n",
    "        {\"entity\": \"DONT_CARE\", \"value\": \"is a boring activity.\", \"score\": 0.7},\n",
    "    ],    \n",
    "    [\n",
    "        {\"entity\": \"DONT_CARE\", \"value\": \"It is interesting to follow the\", \"score\": 0.8},\n",
    "        {\"entity\": \"name\", \"value\": \"Tweet\", \"score\": 0.9},\n",
    "        {\"entity\": \"DONT_CARE\", \"value\": \" of\", \"score\": 0.888},\n",
    "        {\"entity\": \"name\", \"value\": \" President Trump\", \"score\": 0.7},\n",
    "        {\"entity\": \"drink\", \"value\": \".\", \"score\": 0.222},\n",
    "    ],\n",
    "    [\n",
    "        {\"entity\": \"name\", \"value\": \"Chocolate\", \"score\": 0.8},\n",
    "        {\"entity\": \"DONT_CARE\", \"value\": \" is \", \"score\": 0.8},\n",
    "        {\"entity\": \"name\", \"value\": \"Alvin's\", \"score\": 0.9},\n",
    "        {\"entity\": \"DONT_CARE\", \"value\": \" favorite.\", \"score\": 0.8},\n",
    "    ],\n",
    "    [\n",
    "        {\"entity\": \"name\", \"value\": \"Hello\", \"score\": 0.9},\n",
    "        {\"entity\": \"DONT_CARE\", \"value\": \" \", \"score\": 0.8},\n",
    "        {\"entity\": \"drink\", \"value\": \"World\", \"score\": 0.4},\n",
    "    ],\n",
    "]"
   ]
  },
  {
   "cell_type": "markdown",
   "metadata": {},
   "source": [
    "## 5. Evaluate your model by computing different metrics"
   ]
  },
  {
   "cell_type": "markdown",
   "metadata": {},
   "source": [
    "### (1) overlapping score"
   ]
  },
  {
   "cell_type": "code",
   "execution_count": 6,
   "metadata": {},
   "outputs": [
    {
     "name": "stdout",
     "output_type": "stream",
     "text": [
      "#0: I like to drink coffee.\n",
      " overlapping score= 0.8695652173913043\n",
      "\n",
      "#1: Hana thinks that watching TV is a boring activity.\n",
      " overlapping score= 0.76\n",
      "\n",
      "#2: It is interesting to follow the Tweet of President Trump.\n",
      " overlapping score= 0.7017543859649122\n",
      "\n",
      "#3: Chocolate is Alvin's favorite.\n",
      " overlapping score= 0.33333333333333337\n",
      "\n",
      "#4: Hello World\n",
      " overlapping score= 0.09090909090909094\n",
      "\n"
     ]
    }
   ],
   "source": [
    "# overlapping_score of each instance\n",
    "from ynlu.sdk.evaluation import single__entity_overlapping_score\n",
    "\n",
    "for i, (clean_utt, pred, label) in enumerate(zip(clean_utterances, predictions, entity_labels)):\n",
    "    overlapping_score = single__entity_overlapping_score(\n",
    "        utterance=clean_utt,\n",
    "        entity_prediction=pred,\n",
    "        y_true=label,\n",
    "    )\n",
    "    print(\"#{}: {}\\n overlapping score= {}\\n\".format(i, clean_utt, overlapping_score))"
   ]
  },
  {
   "cell_type": "code",
   "execution_count": 7,
   "metadata": {},
   "outputs": [
    {
     "name": "stdout",
     "output_type": "stream",
     "text": [
      "averaged overlapping score= 0.5511124055197282\n"
     ]
    }
   ],
   "source": [
    "# overall overlapping_score\n",
    "from ynlu.sdk.evaluation import entity_overlapping_score\n",
    "\n",
    "averaged_overlapping_score = entity_overlapping_score(\n",
    "    utterances=clean_utterances,\n",
    "    entity_predictions=predictions,\n",
    "    y_trues=entity_labels,\n",
    ")\n",
    "print(\"averaged overlapping score= {}\".format(averaged_overlapping_score))"
   ]
  },
  {
   "cell_type": "markdown",
   "metadata": {},
   "source": [
    "### (2) confusion matrix"
   ]
  },
  {
   "cell_type": "code",
   "execution_count": 8,
   "metadata": {},
   "outputs": [
    {
     "name": "stdout",
     "output_type": "stream",
     "text": [
      "confusion_matrix: \n",
      " [[98 20 24]\n",
      " [ 0  6  9]\n",
      " [ 0  0 14]]\n",
      "entities: ['DONT_CARE', 'drink', 'name']\n"
     ]
    }
   ],
   "source": [
    "from ynlu.sdk.evaluation import entity_confusion_matrix\n",
    "\n",
    "confusion_matrix, entities = entity_confusion_matrix(\n",
    "    utterances=clean_utterances,\n",
    "    entity_predictions=predictions,\n",
    "    y_trues=entity_labels,\n",
    ")\n",
    "print(\"confusion_matrix: \\n {}\".format(confusion_matrix))\n",
    "print(\"entities: {}\".format(entities))"
   ]
  },
  {
   "cell_type": "markdown",
   "metadata": {},
   "source": [
    "## 6. Plot"
   ]
  },
  {
   "cell_type": "markdown",
   "metadata": {},
   "source": [
    "### (1) confusion matrix"
   ]
  },
  {
   "cell_type": "code",
   "execution_count": 9,
   "metadata": {},
   "outputs": [
    {
     "data": {
      "image/png": "[encoded data removed]",
      "text/plain": [
       "<Figure size 576x432 with 2 Axes>"
      ]
     },
     "metadata": {},
     "output_type": "display_data"
    }
   ],
   "source": [
    "# plot confusion matrix without normalization\n",
    "%matplotlib inline\n",
    "from ynlu.sdk.evaluation.plot import plot_confusion_matrix\n",
    "\n",
    "plot_confusion_matrix(\n",
    "    confusion_matrix=confusion_matrix,\n",
    "    indices=entities,\n",
    "    title=\"我是confusion matrix喔喔 沒有normalize\",\n",
    ")"
   ]
  },
  {
   "cell_type": "code",
   "execution_count": 10,
   "metadata": {},
   "outputs": [
    {
     "data": {
      "image/png": "[encoded data removed]",
      "text/plain": [
       "<Figure size 576x432 with 2 Axes>"
      ]
     },
     "metadata": {},
     "output_type": "display_data"
    }
   ],
   "source": [
    "# plot confusion matrix with normalization\n",
    "%matplotlib inline\n",
    "from ynlu.sdk.evaluation.plot import plot_confusion_matrix\n",
    "\n",
    "plot_confusion_matrix(\n",
    "    confusion_matrix=confusion_matrix,\n",
    "    indices=entities,\n",
    "    title=\"我是confusion matrix喔喔 有normalize\",\n",
    "    normalize=True,\n",
    ")"
   ]
  },
  {
   "cell_type": "code",
   "execution_count": 11,
   "metadata": {},
   "outputs": [
    {
     "data": {
      "image/png": "[encoded data removed]",
      "text/plain": [
       "<Figure size 864x720 with 2 Axes>"
      ]
     },
     "metadata": {},
     "output_type": "display_data"
    }
   ],
   "source": [
    "# plot confusion matrix with normalization and bigger \n",
    "%matplotlib inline\n",
    "from ynlu.sdk.evaluation.plot import plot_confusion_matrix\n",
    "\n",
    "plot_confusion_matrix(\n",
    "    confusion_matrix=confusion_matrix,\n",
    "    indices=entities,\n",
    "    title=\"我是confusion matrix喔喔 有normalize + 比較大\",\n",
    "    normalize=True,\n",
    "    figure_size=(12, 10)\n",
    ")"
   ]
  },
  {
   "cell_type": "code",
   "execution_count": 12,
   "metadata": {},
   "outputs": [
    {
     "name": "stdout",
     "output_type": "stream",
     "text": [
      "Using matplotlib backend: TkAgg\n"
     ]
    }
   ],
   "source": [
    "# pop out confusion matrix \n",
    "%matplotlib auto\n",
    "from ynlu.sdk.evaluation.plot import plot_confusion_matrix\n",
    "\n",
    "plot_confusion_matrix(\n",
    "    confusion_matrix=confusion_matrix,\n",
    "    indices=entities,\n",
    "    title=\"我是confusion matrix喔喔 跳出來了\",\n",
    "    normalize=True,\n",
    ")"
   ]
  },
  {
   "cell_type": "code",
   "execution_count": 13,
   "metadata": {},
   "outputs": [
    {
     "name": "stdout",
     "output_type": "stream",
     "text": [
      "Using matplotlib backend: TkAgg\n",
      "Saving confusion matrix figure to confusion_matrix.png\n"
     ]
    },
    {
     "data": {
      "image/png": "[encoded data removed]",
      "text/plain": [
       "<Figure size 576x432 with 2 Axes>"
      ]
     },
     "metadata": {},
     "output_type": "display_data"
    }
   ],
   "source": [
    "## save graph of confusion matrix\n",
    "%matplotlib auto\n",
    "plot_confusion_matrix(\n",
    "    confusion_matrix=confusion_matrix,\n",
    "    indices=entities,\n",
    "    title=\"我是confusion matrix要被存起來惹\",\n",
    "    normalize=True,\n",
    "    output_path=\"confusion_matrix.png\",\n",
    ")"
   ]
  },
  {
   "cell_type": "code",
   "execution_count": null,
   "metadata": {},
   "outputs": [],
   "source": []
  }
 ],
 "metadata": {
  "kernelspec": {
   "display_name": "Python 3",
   "language": "python",
   "name": "python3"
  },
  "language_info": {
   "codemirror_mode": {
    "name": "ipython",
    "version": 3
   },
   "file_extension": ".py",
   "mimetype": "text/x-python",
   "name": "python",
   "nbconvert_exporter": "python",
   "pygments_lexer": "ipython3",
   "version": "3.5.2"
  }
 },
 "nbformat": 4,
 "nbformat_minor": 2
}
