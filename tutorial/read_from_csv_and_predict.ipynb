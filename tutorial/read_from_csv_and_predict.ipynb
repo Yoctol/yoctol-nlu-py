{
 "cells": [
  {
   "cell_type": "code",
   "execution_count": 25,
   "metadata": {
    "collapsed": true
   },
   "outputs": [],
   "source": [
    "from pprint import pprint\n",
    "import pandas as pd\n",
    "import ynlu"
   ]
  },
  {
   "cell_type": "code",
   "execution_count": 7,
   "metadata": {
    "collapsed": false
   },
   "outputs": [
    {
     "data": {
      "text/plain": [
       "'0.19.2'"
      ]
     },
     "execution_count": 7,
     "metadata": {},
     "output_type": "execute_result"
    }
   ],
   "source": [
    "print(pd.__version__)"
   ]
  },
  {
   "cell_type": "code",
   "execution_count": 8,
   "metadata": {
    "collapsed": false
   },
   "outputs": [
    {
     "data": {
      "text/plain": [
       "'0.7.0'"
      ]
     },
     "execution_count": 8,
     "metadata": {},
     "output_type": "execute_result"
    }
   ],
   "source": [
    "print(ynlu.__version__)"
   ]
  },
  {
   "cell_type": "code",
   "execution_count": 10,
   "metadata": {
    "collapsed": false
   },
   "outputs": [
    {
     "data": {
      "text/html": [
       "<div>\n",
       "<table border=\"1\" class=\"dataframe\">\n",
       "  <thead>\n",
       "    <tr style=\"text-align: right;\">\n",
       "      <th></th>\n",
       "      <th>utt</th>\n",
       "      <th>intent</th>\n",
       "    </tr>\n",
       "  </thead>\n",
       "  <tbody>\n",
       "    <tr>\n",
       "      <th>0</th>\n",
       "      <td>安安你好</td>\n",
       "      <td>打招呼</td>\n",
       "    </tr>\n",
       "    <tr>\n",
       "      <th>1</th>\n",
       "      <td>跟大家說 吃飯了</td>\n",
       "      <td>廣播</td>\n",
       "    </tr>\n",
       "    <tr>\n",
       "      <th>2</th>\n",
       "      <td>我覺得yoctol-nlu-py蒸得hen蚌</td>\n",
       "      <td>unknown</td>\n",
       "    </tr>\n",
       "  </tbody>\n",
       "</table>\n",
       "</div>"
      ],
      "text/plain": [
       "                      utt   intent\n",
       "0                    安安你好      打招呼\n",
       "1                跟大家說 吃飯了       廣播\n",
       "2  我覺得yoctol-nlu-py蒸得hen蚌  unknown"
      ]
     },
     "execution_count": 10,
     "metadata": {},
     "output_type": "execute_result"
    }
   ],
   "source": [
    "my_data = pd.read_csv('example.csv')\n",
    "print(my_data)"
   ]
  },
  {
   "cell_type": "code",
   "execution_count": 13,
   "metadata": {
    "collapsed": false
   },
   "outputs": [
    {
     "name": "stdout",
     "output_type": "stream",
     "text": [
      "['安安你好', '跟大家說 吃飯了', '我覺得yoctol-nlu-py蒸得hen蚌']\n"
     ]
    }
   ],
   "source": [
    "utt = list(my_data['utt'])\n",
    "print(utt)"
   ]
  },
  {
   "cell_type": "code",
   "execution_count": 14,
   "metadata": {
    "collapsed": false
   },
   "outputs": [
    {
     "name": "stdout",
     "output_type": "stream",
     "text": [
      "['打招呼', '廣播', 'unknown']\n"
     ]
    }
   ],
   "source": [
    "intent = list(my_data['intent'])\n",
    "print(intent)"
   ]
  },
  {
   "cell_type": "code",
   "execution_count": 31,
   "metadata": {
    "collapsed": false
   },
   "outputs": [
    {
     "name": "stdout",
     "output_type": "stream",
     "text": [
      "Fetching all classifier's id\n",
      "\"Available ids: ['142904166900045111']\"\n",
      "\"Availabel names: ['point1']\"\n"
     ]
    }
   ],
   "source": [
    "TOKEN = 'YOUR_TOKEN_HERE'\n",
    "client = ynlu.NLUClient(token=TOKEN)\n",
    "ids = client.get_all_available_clf_ids()\n",
    "names = client.get_all_available_clf_names()\n",
    "pprint(\"Available ids: {}\".format(ids))\n",
    "pprint(\"Availabel names: {}\".format(names))"
   ]
  },
  {
   "cell_type": "code",
   "execution_count": 29,
   "metadata": {
    "collapsed": false
   },
   "outputs": [],
   "source": [
    "# Summon magical model !\n",
    "model_by_id = client.get_model_by_id('76354955350381764')\n",
    "model_by_name = client.get_model_by_name('水果')\n",
    "# NOTE: model_by_id is equal to model_by_name"
   ]
  },
  {
   "cell_type": "code",
   "execution_count": 30,
   "metadata": {
    "collapsed": false
   },
   "outputs": [
    {
     "name": "stdout",
     "output_type": "stream",
     "text": [
      "[[{'intent': '水果季節', 'score': 0.8771786689758301},\n",
      "  {'intent': '水果產地', 'score': 0.1227431371808052},\n",
      "  {'intent': '水果價格', 'score': 7.82266361056827e-05}],\n",
      " [{'intent': '水果季節', 'score': 0.6414308547973633},\n",
      "  {'intent': '水果產地', 'score': 0.35392051935195923},\n",
      "  {'intent': '水果價格', 'score': 0.0046486565843224525}],\n",
      " [{'intent': '水果季節', 'score': 0.9576888084411621},\n",
      "  {'intent': '水果產地', 'score': 0.0360918864607811},\n",
      "  {'intent': '水果價格', 'score': 0.006219328381121159}]]\n",
      "[[{'entity': 'fruit', 'score': 0.660213828086853, 'value': '安安你好'}],\n",
      " [{'entity': 'DONT_CARE', 'score': 0.9179489811261495, 'value': '跟大家說'},\n",
      "  {'entity': 'DONT_CARE*', 'score': 0, 'value': ' '},\n",
      "  {'entity': 'fruit', 'score': 0.6111603379249573, 'value': '吃飯了'}],\n",
      " [{'entity': 'fruit', 'score': 0.6439720392227173, 'value': '我覺'},\n",
      "  {'entity': 'DONT_CARE', 'score': 0.5914322733879089, 'value': '得'},\n",
      "  {'entity': 'fruit', 'score': 0.6152112483978271, 'value': 'yoctol'},\n",
      "  {'entity': 'DONT_CARE*', 'score': 0, 'value': '-'},\n",
      "  {'entity': 'fruit', 'score': 0.9015454053878784, 'value': 'nlu'},\n",
      "  {'entity': 'DONT_CARE*', 'score': 0, 'value': '-'},\n",
      "  {'entity': 'fruit', 'score': 0.6111603379249573, 'value': 'py蒸得hen蚌'}]]\n"
     ]
    }
   ],
   "source": [
    "intent_prediction, entity_prediction = model_by_id.batch_predict(utt)\n",
    "pprint(intent_prediction)\n",
    "pprint(entity_prediction)"
   ]
  },
  {
   "cell_type": "code",
   "execution_count": null,
   "metadata": {
    "collapsed": true
   },
   "outputs": [],
   "source": []
  }
 ],
 "metadata": {
  "kernelspec": {
   "display_name": "Python 3",
   "language": "python",
   "name": "python3"
  },
  "language_info": {
   "codemirror_mode": {
    "name": "ipython",
    "version": 3
   },
   "file_extension": ".py",
   "mimetype": "text/x-python",
   "name": "python",
   "nbconvert_exporter": "python",
   "pygments_lexer": "ipython3",
   "version": "3.6.4"
  }
 },
 "nbformat": 4,
 "nbformat_minor": 2
}
